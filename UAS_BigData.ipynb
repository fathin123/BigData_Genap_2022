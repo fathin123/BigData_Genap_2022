{
  "nbformat": 4,
  "nbformat_minor": 0,
  "metadata": {
    "colab": {
      "name": "UAS_BigData.ipynb",
      "provenance": [],
      "authorship_tag": "ABX9TyNJyACo/mNBkfo1e+kn2ech",
      "include_colab_link": true
    },
    "kernelspec": {
      "name": "python3",
      "display_name": "Python 3"
    },
    "language_info": {
      "name": "python"
    }
  },
  "cells": [
    {
      "cell_type": "markdown",
      "metadata": {
        "id": "view-in-github",
        "colab_type": "text"
      },
      "source": [
        "<a href=\"https://colab.research.google.com/github/fathin123/BigData_Genap_2022/blob/main/UAS_BigData.ipynb\" target=\"_parent\"><img src=\"https://colab.research.google.com/assets/colab-badge.svg\" alt=\"Open In Colab\"/></a>"
      ]
    },
    {
      "cell_type": "markdown",
      "source": [
        "# UAS - Big Data\n",
        "\n",
        "Menggunakan Pyspark dengan dataset Bank Sampah Di Bulan Juli 2016.\n",
        "\n",
        "\n",
        "Sumber data: \n",
        "1. https://data.jakarta.go.id/datasetdata-jumlah-bank-sampah-wil-administrasi-dki-jakarta/resource/2f8e54f6-0f2a-4283-beff-dd3da95ac6f5\n",
        "2. https://colab.research.google.com/drive/1DG_L31pOV3W2rRMqEj9kkIPkjU3DgBCa#scrollTo=ubzaFAN2YERf\n"
      ],
      "metadata": {
        "id": "r0g_YbOhc6TN"
      }
    },
    {
      "cell_type": "code",
      "execution_count": 1,
      "metadata": {
        "colab": {
          "base_uri": "https://localhost:8080/"
        },
        "id": "kgpJF1syYSiq",
        "outputId": "810f316f-0dcc-4782-f741-dfa5e4c9fbeb"
      },
      "outputs": [
        {
          "output_type": "stream",
          "name": "stdout",
          "text": [
            "/content\n",
            "sample_data\n",
            "default-java  java-1.11.0-openjdk-amd64  java-11-openjdk-amd64\n"
          ]
        }
      ],
      "source": [
        "# print working directory\n",
        "!pwd\n",
        "\n",
        "# List files and folders\n",
        "!ls\n",
        "\n",
        "# Check the open jdk version on colab\n",
        "!ls /usr/lib/jvm/"
      ]
    },
    {
      "cell_type": "code",
      "source": [
        "# Download and install Java 8\n",
        "!apt-get update\n",
        "!apt-get install openjdk-8-jdk-headless -qq > /dev/null"
      ],
      "metadata": {
        "colab": {
          "base_uri": "https://localhost:8080/"
        },
        "id": "tkYX2dq4YdH4",
        "outputId": "50e29f31-61d6-4037-9898-3f8914df116e"
      },
      "execution_count": 2,
      "outputs": [
        {
          "output_type": "stream",
          "name": "stdout",
          "text": [
            "\r0% [Working]\r            \rHit:1 http://archive.ubuntu.com/ubuntu bionic InRelease\n",
            "\r0% [Waiting for headers] [Waiting for headers] [Connected to cloud.r-project.or\r                                                                               \rGet:2 http://security.ubuntu.com/ubuntu bionic-security InRelease [88.7 kB]\n",
            "\r0% [Waiting for headers] [2 InRelease 14.2 kB/88.7 kB 16%] [Connected to cloud.\r0% [1 InRelease gpgv 242 kB] [Waiting for headers] [2 InRelease 14.2 kB/88.7 kB\r                                                                               \rGet:3 http://archive.ubuntu.com/ubuntu bionic-updates InRelease [88.7 kB]\n",
            "\r0% [1 InRelease gpgv 242 kB] [3 InRelease 14.2 kB/88.7 kB 16%] [2 InRelease 14.\r                                                                               \rHit:4 https://developer.download.nvidia.com/compute/cuda/repos/ubuntu1804/x86_64  InRelease\n",
            "\r0% [1 InRelease gpgv 242 kB] [3 InRelease 14.2 kB/88.7 kB 16%] [2 InRelease 34.\r                                                                               \rGet:5 https://cloud.r-project.org/bin/linux/ubuntu bionic-cran40/ InRelease [3,626 B]\n",
            "\r0% [1 InRelease gpgv 242 kB] [3 InRelease 15.6 kB/88.7 kB 18%] [2 InRelease 43.\r0% [1 InRelease gpgv 242 kB] [3 InRelease 15.6 kB/88.7 kB 18%] [2 InRelease 43.\r0% [1 InRelease gpgv 242 kB] [Waiting for headers] [2 InRelease 86.6 kB/88.7 kB\r0% [1 InRelease gpgv 242 kB] [Waiting for headers] [Waiting for headers] [Waiti\r                                                                               \rGet:6 http://ppa.launchpad.net/c2d4u.team/c2d4u4.0+/ubuntu bionic InRelease [15.9 kB]\n",
            "Get:7 http://archive.ubuntu.com/ubuntu bionic-backports InRelease [74.6 kB]\n",
            "Ign:8 https://developer.download.nvidia.com/compute/machine-learning/repos/ubuntu1804/x86_64  InRelease\n",
            "Hit:9 https://developer.download.nvidia.com/compute/machine-learning/repos/ubuntu1804/x86_64  Release\n",
            "Hit:10 http://ppa.launchpad.net/cran/libgit2/ubuntu bionic InRelease\n",
            "Hit:11 http://ppa.launchpad.net/deadsnakes/ppa/ubuntu bionic InRelease\n",
            "Get:12 http://ppa.launchpad.net/graphics-drivers/ppa/ubuntu bionic InRelease [21.3 kB]\n",
            "Get:13 http://archive.ubuntu.com/ubuntu bionic-updates/universe amd64 Packages [2,298 kB]\n",
            "Get:14 http://archive.ubuntu.com/ubuntu bionic-updates/main amd64 Packages [3,298 kB]\n",
            "Get:15 http://archive.ubuntu.com/ubuntu bionic-updates/multiverse amd64 Packages [29.8 kB]\n",
            "Get:16 http://archive.ubuntu.com/ubuntu bionic-updates/restricted amd64 Packages [1,075 kB]\n",
            "Get:17 http://security.ubuntu.com/ubuntu bionic-security/restricted amd64 Packages [1,021 kB]\n",
            "Get:18 http://security.ubuntu.com/ubuntu bionic-security/multiverse amd64 Packages [22.8 kB]\n",
            "Get:19 http://security.ubuntu.com/ubuntu bionic-security/main amd64 Packages [2,867 kB]\n",
            "Get:20 http://security.ubuntu.com/ubuntu bionic-security/universe amd64 Packages [1,521 kB]\n",
            "Get:21 http://archive.ubuntu.com/ubuntu bionic-backports/main amd64 Packages [12.2 kB]\n",
            "Get:22 http://ppa.launchpad.net/c2d4u.team/c2d4u4.0+/ubuntu bionic/main Sources [2,073 kB]\n",
            "Get:24 http://ppa.launchpad.net/c2d4u.team/c2d4u4.0+/ubuntu bionic/main amd64 Packages [1,062 kB]\n",
            "Get:25 http://ppa.launchpad.net/graphics-drivers/ppa/ubuntu bionic/main amd64 Packages [47.8 kB]\n",
            "Fetched 15.6 MB in 4s (3,871 kB/s)\n",
            "Reading package lists... Done\n"
          ]
        }
      ]
    },
    {
      "cell_type": "code",
      "source": [
        "# Check if we have java 8 or not\n",
        "!ls /usr/lib/jvm/"
      ],
      "metadata": {
        "colab": {
          "base_uri": "https://localhost:8080/"
        },
        "id": "1ZwqIOxjYuMH",
        "outputId": "a9a42e57-411e-4ad8-f7d8-6ab769644f0f"
      },
      "execution_count": 3,
      "outputs": [
        {
          "output_type": "stream",
          "name": "stdout",
          "text": [
            "default-java\t\t   java-11-openjdk-amd64     java-8-openjdk-amd64\n",
            "java-1.11.0-openjdk-amd64  java-1.8.0-openjdk-amd64\n"
          ]
        }
      ]
    },
    {
      "cell_type": "code",
      "source": [
        "# Download Apache Spark binary: This link can change based on the version. Update this link with the latest version before using\n",
        "!wget -q https://dlcdn.apache.org/spark/spark-3.2.1/spark-3.2.1-bin-hadoop3.2.tgz\n",
        "\n",
        "# Unzip file\n",
        "!tar xf spark-3.2.1-bin-hadoop3.2.tgz"
      ],
      "metadata": {
        "id": "hiOBhkEsYxys"
      },
      "execution_count": 4,
      "outputs": []
    },
    {
      "cell_type": "code",
      "source": [
        "import os\n",
        "os.environ[\"JAVA_HOME\"] = \"/usr/lib/jvm/java-8-openjdk-amd64\"\n",
        "os.environ[\"SPARK_HOME\"] = \"/content/spark-3.2.1-bin-hadoop3.2\""
      ],
      "metadata": {
        "id": "ElCQ6zVpY1lB"
      },
      "execution_count": 5,
      "outputs": []
    },
    {
      "cell_type": "code",
      "source": [
        "# Install findspark: Adds Pyspark to sys.path at runtime\n",
        "!pip install -q findspark\n",
        "\n",
        "# Install pyspark\n",
        "!pip install pyspark"
      ],
      "metadata": {
        "colab": {
          "base_uri": "https://localhost:8080/"
        },
        "id": "plFO_KwCY6hh",
        "outputId": "6e7e160a-a1ad-48dc-d98f-736bfbe288b5"
      },
      "execution_count": 6,
      "outputs": [
        {
          "output_type": "stream",
          "name": "stdout",
          "text": [
            "Looking in indexes: https://pypi.org/simple, https://us-python.pkg.dev/colab-wheels/public/simple/\n",
            "Collecting pyspark\n",
            "  Downloading pyspark-3.3.0.tar.gz (281.3 MB)\n",
            "\u001b[K     |████████████████████████████████| 281.3 MB 45 kB/s \n",
            "\u001b[?25hCollecting py4j==0.10.9.5\n",
            "  Downloading py4j-0.10.9.5-py2.py3-none-any.whl (199 kB)\n",
            "\u001b[K     |████████████████████████████████| 199 kB 51.0 MB/s \n",
            "\u001b[?25hBuilding wheels for collected packages: pyspark\n",
            "  Building wheel for pyspark (setup.py) ... \u001b[?25l\u001b[?25hdone\n",
            "  Created wheel for pyspark: filename=pyspark-3.3.0-py2.py3-none-any.whl size=281764026 sha256=af3d741b9c2108ae29c1570c2dbd0f0b5555d9653701c255f897c54bd081cd28\n",
            "  Stored in directory: /root/.cache/pip/wheels/7a/8e/1b/f73a52650d2e5f337708d9f6a1750d451a7349a867f928b885\n",
            "Successfully built pyspark\n",
            "Installing collected packages: py4j, pyspark\n",
            "Successfully installed py4j-0.10.9.5 pyspark-3.3.0\n"
          ]
        }
      ]
    },
    {
      "cell_type": "code",
      "source": [
        "import findspark\n",
        "findspark.init()"
      ],
      "metadata": {
        "id": "bt9KXhIPY-IS"
      },
      "execution_count": 7,
      "outputs": []
    },
    {
      "cell_type": "code",
      "source": [
        "from pyspark.sql import SparkSession\n",
        "spark = SparkSession.builder\\\n",
        " .master(\"local\")\\\n",
        " .appName(\"Colab\")\\\n",
        " .config('spark.ui.port', '4050')\\\n",
        " .getOrCreate()"
      ],
      "metadata": {
        "id": "NCK1MOQ9ZMRn"
      },
      "execution_count": 8,
      "outputs": []
    },
    {
      "cell_type": "code",
      "source": [
        "import pandas as pd\n",
        "import numpy as np\n",
        "import matplotlib.pyplot as plt\n",
        "%matplotlib inline\n",
        "import seaborn as sns\n",
        "sns.set()"
      ],
      "metadata": {
        "id": "hi-7r-y2ZwZG"
      },
      "execution_count": 9,
      "outputs": []
    },
    {
      "cell_type": "code",
      "source": [
        "!wget --continue https://data.jakarta.go.id/dataset/data-jumlah-bank-sampah-wil-administrasi-dki-jakarta/resource/2f8e54f6-0f2a-4283-beff-dd3da95ac6f5/BankSampahJuli2016.csv"
      ],
      "metadata": {
        "colab": {
          "base_uri": "https://localhost:8080/"
        },
        "id": "CvKy6GT9ZP5v",
        "outputId": "6ae036c3-3133-4f57-a64b-c4c28161134b"
      },
      "execution_count": 17,
      "outputs": [
        {
          "output_type": "stream",
          "name": "stdout",
          "text": [
            "--2022-06-30 11:41:36--  https://data.jakarta.go.id/dataset/data-jumlah-bank-sampah-wil-administrasi-dki-jakarta/resource/2f8e54f6-0f2a-4283-beff-dd3da95ac6f5/BankSampahJuli2016.csv\n",
            "Resolving data.jakarta.go.id (data.jakarta.go.id)... 103.209.7.64\n",
            "Connecting to data.jakarta.go.id (data.jakarta.go.id)|103.209.7.64|:443... connected.\n",
            "HTTP request sent, awaiting response... 200 OK\n",
            "Length: unspecified [text/html]\n",
            "Saving to: ‘BankSampahJuli2016.csv’\n",
            "\n",
            "BankSampahJuli2016.     [ <=>                ]     833  --.-KB/s    in 0s      \n",
            "\n",
            "2022-06-30 11:41:38 (20.9 MB/s) - ‘BankSampahJuli2016.csv’ saved [833]\n",
            "\n"
          ]
        }
      ]
    },
    {
      "cell_type": "code",
      "source": [
        "df = pd.read_csv (\"/content/BankSampahJuli2016.csv\")"
      ],
      "metadata": {
        "id": "WAIBQ4JFal0x"
      },
      "execution_count": 24,
      "outputs": []
    },
    {
      "cell_type": "code",
      "source": [
        "df"
      ],
      "metadata": {
        "colab": {
          "base_uri": "https://localhost:8080/",
          "height": 676
        },
        "id": "MB8m-4oAbGrV",
        "outputId": "094b43e3-c6e8-4719-8415-38e13093ab75"
      },
      "execution_count": 25,
      "outputs": [
        {
          "output_type": "execute_result",
          "data": {
            "text/plain": [
              "             wilayah  jml_bank_sampah  jml_nasabah       jenis_sampah   jumlah\n",
              "0     Jakarta Pusat               145         2707             Kertas  44012.0\n",
              "1     Jakarta Utara                58         5362             Kertas  16796.5\n",
              "2     Jakarta Barat                83         3405             Kertas  10189.5\n",
              "3   Jakarta Selatan                35         3198             Kertas   4596.6\n",
              "4     Jakarta Timur                98         7157             Kertas  27816.0\n",
              "5     Jakarta Pusat               145         2707            Plastik  61970.0\n",
              "6     Jakarta Utara                58         5362            Plastik  17868.8\n",
              "7     Jakarta Barat                83         3405            Plastik   5793.0\n",
              "8   Jakarta Selatan                35         3198            Plastik   4189.6\n",
              "9     Jakarta Timur                98         7157            Plastik  20071.0\n",
              "10    Jakarta Pusat               145         2707              Logam   9152.6\n",
              "11    Jakarta Utara                58         5362              Logam   7875.6\n",
              "12    Jakarta Barat                83         3405              Logam   2078.0\n",
              "13  Jakarta Selatan                35         3198              Logam    867.2\n",
              "14    Jakarta Timur                98         7157              Logam   4528.0\n",
              "15    Jakarta Pusat               145         2707  Beling dan Gabrug      NaN\n",
              "16    Jakarta Utara                58         5362  Beling dan Gabrug      NaN\n",
              "17    Jakarta Barat                83         3405  Beling dan Gabrug      NaN\n",
              "18  Jakarta Selatan                35         3198  Beling dan Gabrug   1393.5\n",
              "19    Jakarta Timur                98         7157  Beling dan Gabrug      NaN"
            ],
            "text/html": [
              "\n",
              "  <div id=\"df-e659907c-5681-45c3-b669-e31b2d493ed3\">\n",
              "    <div class=\"colab-df-container\">\n",
              "      <div>\n",
              "<style scoped>\n",
              "    .dataframe tbody tr th:only-of-type {\n",
              "        vertical-align: middle;\n",
              "    }\n",
              "\n",
              "    .dataframe tbody tr th {\n",
              "        vertical-align: top;\n",
              "    }\n",
              "\n",
              "    .dataframe thead th {\n",
              "        text-align: right;\n",
              "    }\n",
              "</style>\n",
              "<table border=\"1\" class=\"dataframe\">\n",
              "  <thead>\n",
              "    <tr style=\"text-align: right;\">\n",
              "      <th></th>\n",
              "      <th>wilayah</th>\n",
              "      <th>jml_bank_sampah</th>\n",
              "      <th>jml_nasabah</th>\n",
              "      <th>jenis_sampah</th>\n",
              "      <th>jumlah</th>\n",
              "    </tr>\n",
              "  </thead>\n",
              "  <tbody>\n",
              "    <tr>\n",
              "      <th>0</th>\n",
              "      <td>Jakarta Pusat</td>\n",
              "      <td>145</td>\n",
              "      <td>2707</td>\n",
              "      <td>Kertas</td>\n",
              "      <td>44012.0</td>\n",
              "    </tr>\n",
              "    <tr>\n",
              "      <th>1</th>\n",
              "      <td>Jakarta Utara</td>\n",
              "      <td>58</td>\n",
              "      <td>5362</td>\n",
              "      <td>Kertas</td>\n",
              "      <td>16796.5</td>\n",
              "    </tr>\n",
              "    <tr>\n",
              "      <th>2</th>\n",
              "      <td>Jakarta Barat</td>\n",
              "      <td>83</td>\n",
              "      <td>3405</td>\n",
              "      <td>Kertas</td>\n",
              "      <td>10189.5</td>\n",
              "    </tr>\n",
              "    <tr>\n",
              "      <th>3</th>\n",
              "      <td>Jakarta Selatan</td>\n",
              "      <td>35</td>\n",
              "      <td>3198</td>\n",
              "      <td>Kertas</td>\n",
              "      <td>4596.6</td>\n",
              "    </tr>\n",
              "    <tr>\n",
              "      <th>4</th>\n",
              "      <td>Jakarta Timur</td>\n",
              "      <td>98</td>\n",
              "      <td>7157</td>\n",
              "      <td>Kertas</td>\n",
              "      <td>27816.0</td>\n",
              "    </tr>\n",
              "    <tr>\n",
              "      <th>5</th>\n",
              "      <td>Jakarta Pusat</td>\n",
              "      <td>145</td>\n",
              "      <td>2707</td>\n",
              "      <td>Plastik</td>\n",
              "      <td>61970.0</td>\n",
              "    </tr>\n",
              "    <tr>\n",
              "      <th>6</th>\n",
              "      <td>Jakarta Utara</td>\n",
              "      <td>58</td>\n",
              "      <td>5362</td>\n",
              "      <td>Plastik</td>\n",
              "      <td>17868.8</td>\n",
              "    </tr>\n",
              "    <tr>\n",
              "      <th>7</th>\n",
              "      <td>Jakarta Barat</td>\n",
              "      <td>83</td>\n",
              "      <td>3405</td>\n",
              "      <td>Plastik</td>\n",
              "      <td>5793.0</td>\n",
              "    </tr>\n",
              "    <tr>\n",
              "      <th>8</th>\n",
              "      <td>Jakarta Selatan</td>\n",
              "      <td>35</td>\n",
              "      <td>3198</td>\n",
              "      <td>Plastik</td>\n",
              "      <td>4189.6</td>\n",
              "    </tr>\n",
              "    <tr>\n",
              "      <th>9</th>\n",
              "      <td>Jakarta Timur</td>\n",
              "      <td>98</td>\n",
              "      <td>7157</td>\n",
              "      <td>Plastik</td>\n",
              "      <td>20071.0</td>\n",
              "    </tr>\n",
              "    <tr>\n",
              "      <th>10</th>\n",
              "      <td>Jakarta Pusat</td>\n",
              "      <td>145</td>\n",
              "      <td>2707</td>\n",
              "      <td>Logam</td>\n",
              "      <td>9152.6</td>\n",
              "    </tr>\n",
              "    <tr>\n",
              "      <th>11</th>\n",
              "      <td>Jakarta Utara</td>\n",
              "      <td>58</td>\n",
              "      <td>5362</td>\n",
              "      <td>Logam</td>\n",
              "      <td>7875.6</td>\n",
              "    </tr>\n",
              "    <tr>\n",
              "      <th>12</th>\n",
              "      <td>Jakarta Barat</td>\n",
              "      <td>83</td>\n",
              "      <td>3405</td>\n",
              "      <td>Logam</td>\n",
              "      <td>2078.0</td>\n",
              "    </tr>\n",
              "    <tr>\n",
              "      <th>13</th>\n",
              "      <td>Jakarta Selatan</td>\n",
              "      <td>35</td>\n",
              "      <td>3198</td>\n",
              "      <td>Logam</td>\n",
              "      <td>867.2</td>\n",
              "    </tr>\n",
              "    <tr>\n",
              "      <th>14</th>\n",
              "      <td>Jakarta Timur</td>\n",
              "      <td>98</td>\n",
              "      <td>7157</td>\n",
              "      <td>Logam</td>\n",
              "      <td>4528.0</td>\n",
              "    </tr>\n",
              "    <tr>\n",
              "      <th>15</th>\n",
              "      <td>Jakarta Pusat</td>\n",
              "      <td>145</td>\n",
              "      <td>2707</td>\n",
              "      <td>Beling dan Gabrug</td>\n",
              "      <td>NaN</td>\n",
              "    </tr>\n",
              "    <tr>\n",
              "      <th>16</th>\n",
              "      <td>Jakarta Utara</td>\n",
              "      <td>58</td>\n",
              "      <td>5362</td>\n",
              "      <td>Beling dan Gabrug</td>\n",
              "      <td>NaN</td>\n",
              "    </tr>\n",
              "    <tr>\n",
              "      <th>17</th>\n",
              "      <td>Jakarta Barat</td>\n",
              "      <td>83</td>\n",
              "      <td>3405</td>\n",
              "      <td>Beling dan Gabrug</td>\n",
              "      <td>NaN</td>\n",
              "    </tr>\n",
              "    <tr>\n",
              "      <th>18</th>\n",
              "      <td>Jakarta Selatan</td>\n",
              "      <td>35</td>\n",
              "      <td>3198</td>\n",
              "      <td>Beling dan Gabrug</td>\n",
              "      <td>1393.5</td>\n",
              "    </tr>\n",
              "    <tr>\n",
              "      <th>19</th>\n",
              "      <td>Jakarta Timur</td>\n",
              "      <td>98</td>\n",
              "      <td>7157</td>\n",
              "      <td>Beling dan Gabrug</td>\n",
              "      <td>NaN</td>\n",
              "    </tr>\n",
              "  </tbody>\n",
              "</table>\n",
              "</div>\n",
              "      <button class=\"colab-df-convert\" onclick=\"convertToInteractive('df-e659907c-5681-45c3-b669-e31b2d493ed3')\"\n",
              "              title=\"Convert this dataframe to an interactive table.\"\n",
              "              style=\"display:none;\">\n",
              "        \n",
              "  <svg xmlns=\"http://www.w3.org/2000/svg\" height=\"24px\"viewBox=\"0 0 24 24\"\n",
              "       width=\"24px\">\n",
              "    <path d=\"M0 0h24v24H0V0z\" fill=\"none\"/>\n",
              "    <path d=\"M18.56 5.44l.94 2.06.94-2.06 2.06-.94-2.06-.94-.94-2.06-.94 2.06-2.06.94zm-11 1L8.5 8.5l.94-2.06 2.06-.94-2.06-.94L8.5 2.5l-.94 2.06-2.06.94zm10 10l.94 2.06.94-2.06 2.06-.94-2.06-.94-.94-2.06-.94 2.06-2.06.94z\"/><path d=\"M17.41 7.96l-1.37-1.37c-.4-.4-.92-.59-1.43-.59-.52 0-1.04.2-1.43.59L10.3 9.45l-7.72 7.72c-.78.78-.78 2.05 0 2.83L4 21.41c.39.39.9.59 1.41.59.51 0 1.02-.2 1.41-.59l7.78-7.78 2.81-2.81c.8-.78.8-2.07 0-2.86zM5.41 20L4 18.59l7.72-7.72 1.47 1.35L5.41 20z\"/>\n",
              "  </svg>\n",
              "      </button>\n",
              "      \n",
              "  <style>\n",
              "    .colab-df-container {\n",
              "      display:flex;\n",
              "      flex-wrap:wrap;\n",
              "      gap: 12px;\n",
              "    }\n",
              "\n",
              "    .colab-df-convert {\n",
              "      background-color: #E8F0FE;\n",
              "      border: none;\n",
              "      border-radius: 50%;\n",
              "      cursor: pointer;\n",
              "      display: none;\n",
              "      fill: #1967D2;\n",
              "      height: 32px;\n",
              "      padding: 0 0 0 0;\n",
              "      width: 32px;\n",
              "    }\n",
              "\n",
              "    .colab-df-convert:hover {\n",
              "      background-color: #E2EBFA;\n",
              "      box-shadow: 0px 1px 2px rgba(60, 64, 67, 0.3), 0px 1px 3px 1px rgba(60, 64, 67, 0.15);\n",
              "      fill: #174EA6;\n",
              "    }\n",
              "\n",
              "    [theme=dark] .colab-df-convert {\n",
              "      background-color: #3B4455;\n",
              "      fill: #D2E3FC;\n",
              "    }\n",
              "\n",
              "    [theme=dark] .colab-df-convert:hover {\n",
              "      background-color: #434B5C;\n",
              "      box-shadow: 0px 1px 3px 1px rgba(0, 0, 0, 0.15);\n",
              "      filter: drop-shadow(0px 1px 2px rgba(0, 0, 0, 0.3));\n",
              "      fill: #FFFFFF;\n",
              "    }\n",
              "  </style>\n",
              "\n",
              "      <script>\n",
              "        const buttonEl =\n",
              "          document.querySelector('#df-e659907c-5681-45c3-b669-e31b2d493ed3 button.colab-df-convert');\n",
              "        buttonEl.style.display =\n",
              "          google.colab.kernel.accessAllowed ? 'block' : 'none';\n",
              "\n",
              "        async function convertToInteractive(key) {\n",
              "          const element = document.querySelector('#df-e659907c-5681-45c3-b669-e31b2d493ed3');\n",
              "          const dataTable =\n",
              "            await google.colab.kernel.invokeFunction('convertToInteractive',\n",
              "                                                     [key], {});\n",
              "          if (!dataTable) return;\n",
              "\n",
              "          const docLinkHtml = 'Like what you see? Visit the ' +\n",
              "            '<a target=\"_blank\" href=https://colab.research.google.com/notebooks/data_table.ipynb>data table notebook</a>'\n",
              "            + ' to learn more about interactive tables.';\n",
              "          element.innerHTML = '';\n",
              "          dataTable['output_type'] = 'display_data';\n",
              "          await google.colab.output.renderOutput(dataTable, element);\n",
              "          const docLink = document.createElement('div');\n",
              "          docLink.innerHTML = docLinkHtml;\n",
              "          element.appendChild(docLink);\n",
              "        }\n",
              "      </script>\n",
              "    </div>\n",
              "  </div>\n",
              "  "
            ]
          },
          "metadata": {},
          "execution_count": 25
        }
      ]
    },
    {
      "cell_type": "code",
      "source": [
        "ax = sns.lineplot(x='wilayah', y='jml_bank_sampah', data=df)"
      ],
      "metadata": {
        "colab": {
          "base_uri": "https://localhost:8080/",
          "height": 285
        },
        "id": "0I8dLqRjbis1",
        "outputId": "f41055d8-1541-4fa2-ff84-d9f6c342ed3b"
      },
      "execution_count": 26,
      "outputs": [
        {
          "output_type": "display_data",
          "data": {
            "text/plain": [
              "<Figure size 432x288 with 1 Axes>"
            ],
            "image/png": "[encoded data removed]"
          },
          "metadata": {}
        }
      ]
    },
    {
      "cell_type": "code",
      "source": [
        "ax = sns.barplot(x='wilayah', y='jml_bank_sampah', data=df)"
      ],
      "metadata": {
        "colab": {
          "base_uri": "https://localhost:8080/",
          "height": 285
        },
        "id": "zO6PUVUibpnT",
        "outputId": "e5e1a002-202e-4d74-85a7-31a79f71b0e7"
      },
      "execution_count": 27,
      "outputs": [
        {
          "output_type": "display_data",
          "data": {
            "text/plain": [
              "<Figure size 432x288 with 1 Axes>"
            ],
            "image/png": "[encoded data removed]"
          },
          "metadata": {}
        }
      ]
    }
  ]
}