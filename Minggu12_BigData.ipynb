{
  "nbformat": 4,
  "nbformat_minor": 0,
  "metadata": {
    "colab": {
      "name": "Minggu12-BigData.ipynb",
      "provenance": [],
      "collapsed_sections": [],
      "authorship_tag": "ABX9TyNYlk7+HxNcX5bW4NL2yQwX",
      "include_colab_link": true
    },
    "kernelspec": {
      "name": "python3",
      "display_name": "Python 3"
    },
    "language_info": {
      "name": "python"
    }
  },
  "cells": [
    {
      "cell_type": "markdown",
      "metadata": {
        "id": "view-in-github",
        "colab_type": "text"
      },
      "source": [
        "<a href=\"https://colab.research.google.com/github/fathin123/BigData_Genap_2022/blob/main/Minggu12_BigData.ipynb\" target=\"_parent\"><img src=\"https://colab.research.google.com/assets/colab-badge.svg\" alt=\"Open In Colab\"/></a>"
      ]
    },
    {
      "cell_type": "code",
      "source": [
        "# print working directory\n",
        "!pwd\n",
        "\n",
        "# List files and folders\n",
        "!ls\n",
        "\n",
        "# Check the open jdk version on colab\n",
        "!ls /usr/lib/jvm/"
      ],
      "metadata": {
        "colab": {
          "base_uri": "https://localhost:8080/"
        },
        "id": "jIIsJJ1yiLV5",
        "outputId": "68723919-e89b-487d-e0a1-baab0928f6d0"
      },
      "execution_count": 3,
      "outputs": [
        {
          "output_type": "stream",
          "name": "stdout",
          "text": [
            "/content\n",
            "sample_data\n",
            "default-java  java-1.11.0-openjdk-amd64  java-11-openjdk-amd64\n"
          ]
        }
      ]
    },
    {
      "cell_type": "code",
      "source": [
        "# Download and install Java 8\n",
        "!apt-get update\n",
        "!apt-get install openjdk-8-jdk-headless -qq > /dev/null"
      ],
      "metadata": {
        "colab": {
          "base_uri": "https://localhost:8080/"
        },
        "id": "Q1bD5NqpifE5",
        "outputId": "cffa22b1-33c9-4245-c497-1a4746ff5872"
      },
      "execution_count": 4,
      "outputs": [
        {
          "output_type": "stream",
          "name": "stdout",
          "text": [
            "\r0% [Working]\r            \rHit:1 https://developer.download.nvidia.com/compute/cuda/repos/ubuntu1804/x86_64  InRelease\n",
            "\r0% [Connecting to archive.ubuntu.com] [Connecting to security.ubuntu.com (185.1\r                                                                               \rGet:2 https://cloud.r-project.org/bin/linux/ubuntu bionic-cran40/ InRelease [3,626 B]\n",
            "\r0% [Connecting to archive.ubuntu.com] [Connecting to security.ubuntu.com (185.1\r0% [1 InRelease gpgv 1,581 B] [Connecting to archive.ubuntu.com] [Connecting to\r                                                                               \rIgn:3 https://developer.download.nvidia.com/compute/machine-learning/repos/ubuntu1804/x86_64  InRelease\n",
            "Hit:4 https://developer.download.nvidia.com/compute/machine-learning/repos/ubuntu1804/x86_64  Release\n",
            "Get:5 http://ppa.launchpad.net/c2d4u.team/c2d4u4.0+/ubuntu bionic InRelease [15.9 kB]\n",
            "Hit:6 http://archive.ubuntu.com/ubuntu bionic InRelease\n",
            "Get:7 http://security.ubuntu.com/ubuntu bionic-security InRelease [88.7 kB]\n",
            "Get:8 http://archive.ubuntu.com/ubuntu bionic-updates InRelease [88.7 kB]\n",
            "Get:9 http://archive.ubuntu.com/ubuntu bionic-backports InRelease [74.6 kB]\n",
            "Hit:11 http://ppa.launchpad.net/cran/libgit2/ubuntu bionic InRelease\n",
            "Get:12 http://ppa.launchpad.net/deadsnakes/ppa/ubuntu bionic InRelease [15.9 kB]\n",
            "Get:13 http://archive.ubuntu.com/ubuntu bionic-updates/universe amd64 Packages [2,286 kB]\n",
            "Hit:14 http://ppa.launchpad.net/graphics-drivers/ppa/ubuntu bionic InRelease\n",
            "Get:15 http://ppa.launchpad.net/c2d4u.team/c2d4u4.0+/ubuntu bionic/main Sources [1,992 kB]\n",
            "Get:16 http://archive.ubuntu.com/ubuntu bionic-updates/main amd64 Packages [3,231 kB]\n",
            "Get:17 http://security.ubuntu.com/ubuntu bionic-security/universe amd64 Packages [1,512 kB]\n",
            "Get:18 http://security.ubuntu.com/ubuntu bionic-security/main amd64 Packages [2,799 kB]\n",
            "Get:19 http://ppa.launchpad.net/c2d4u.team/c2d4u4.0+/ubuntu bionic/main amd64 Packages [1,021 kB]\n",
            "Get:20 http://ppa.launchpad.net/deadsnakes/ppa/ubuntu bionic/main amd64 Packages [45.3 kB]\n",
            "Fetched 13.2 MB in 4s (3,120 kB/s)\n",
            "Reading package lists... Done\n"
          ]
        }
      ]
    },
    {
      "cell_type": "code",
      "source": [
        "# Check if we have java 8 or not\n",
        "!ls /usr/lib/jvm/"
      ],
      "metadata": {
        "colab": {
          "base_uri": "https://localhost:8080/"
        },
        "id": "w130bC_rivYs",
        "outputId": "4beb5487-81db-4e6b-df3d-15d13585c013"
      },
      "execution_count": 5,
      "outputs": [
        {
          "output_type": "stream",
          "name": "stdout",
          "text": [
            "default-java\t\t   java-11-openjdk-amd64     java-8-openjdk-amd64\n",
            "java-1.11.0-openjdk-amd64  java-1.8.0-openjdk-amd64\n"
          ]
        }
      ]
    },
    {
      "cell_type": "code",
      "source": [
        "# Download Apache Spark binary: This link can change based on the version. Update this link with the latest version before using\n",
        "!wget -q https://dlcdn.apache.org/spark/spark-3.2.1/spark-3.2.1-bin-hadoop3.2.tgz\n",
        "\n",
        "# Unzip file\n",
        "!tar xf spark-3.2.1-bin-hadoop3.2.tgz"
      ],
      "metadata": {
        "id": "4bSyrLu3i4k0"
      },
      "execution_count": 6,
      "outputs": []
    },
    {
      "cell_type": "code",
      "source": [
        "import os\n",
        "os.environ[\"JAVA_HOME\"] = \"/usr/lib/jvm/java-8-openjdk-amd64\"\n",
        "os.environ[\"SPARK_HOME\"] = \"/content/spark-3.2.1-bin-hadoop3.2\""
      ],
      "metadata": {
        "id": "ZLrYTPeMj-bl"
      },
      "execution_count": 7,
      "outputs": []
    },
    {
      "cell_type": "code",
      "source": [
        "# Install findspark: Adds Pyspark to sys.path at runtime\n",
        "!pip install -q findspark\n",
        "\n",
        "# Install pyspark\n",
        "!pip install pyspark"
      ],
      "metadata": {
        "colab": {
          "base_uri": "https://localhost:8080/"
        },
        "id": "4U4seKhQkO6n",
        "outputId": "3a3dc3e3-1b15-4017-e2a7-663a0086c3a1"
      },
      "execution_count": 8,
      "outputs": [
        {
          "output_type": "stream",
          "name": "stdout",
          "text": [
            "Looking in indexes: https://pypi.org/simple, https://us-python.pkg.dev/colab-wheels/public/simple/\n",
            "Collecting pyspark\n",
            "  Downloading pyspark-3.2.1.tar.gz (281.4 MB)\n",
            "\u001b[K     |████████████████████████████████| 281.4 MB 34 kB/s \n",
            "\u001b[?25hCollecting py4j==0.10.9.3\n",
            "  Downloading py4j-0.10.9.3-py2.py3-none-any.whl (198 kB)\n",
            "\u001b[K     |████████████████████████████████| 198 kB 52.5 MB/s \n",
            "\u001b[?25hBuilding wheels for collected packages: pyspark\n",
            "  Building wheel for pyspark (setup.py) ... \u001b[?25l\u001b[?25hdone\n",
            "  Created wheel for pyspark: filename=pyspark-3.2.1-py2.py3-none-any.whl size=281853642 sha256=f23044a81471291ae4a8a01435a9ce8b6cd23ec658ce3486570751febffb1cff\n",
            "  Stored in directory: /root/.cache/pip/wheels/9f/f5/07/7cd8017084dce4e93e84e92efd1e1d5334db05f2e83bcef74f\n",
            "Successfully built pyspark\n",
            "Installing collected packages: py4j, pyspark\n",
            "Successfully installed py4j-0.10.9.3 pyspark-3.2.1\n"
          ]
        }
      ]
    },
    {
      "cell_type": "code",
      "source": [
        "import findspark\n",
        "findspark.init()"
      ],
      "metadata": {
        "id": "tK-56lRckcVt"
      },
      "execution_count": 9,
      "outputs": []
    },
    {
      "cell_type": "code",
      "source": [
        "from pyspark.sql import SparkSession\n",
        "spark = SparkSession.builder\\\n",
        " .master(\"local\")\\\n",
        " .appName(\"Colab\")\\\n",
        " .config('spark.ui.port', '4050')\\\n",
        " .getOrCreate()"
      ],
      "metadata": {
        "id": "JvSA66GOkeTJ"
      },
      "execution_count": 10,
      "outputs": []
    },
    {
      "cell_type": "code",
      "source": [
        "!wget --continue https://raw.githubusercontent.com/dhanifudin/pyspark-demo/main/sample_books.json"
      ],
      "metadata": {
        "colab": {
          "base_uri": "https://localhost:8080/"
        },
        "id": "XH8f3gxolHGP",
        "outputId": "7bbacadd-1957-48db-cf80-3211852b7bf9"
      },
      "execution_count": 11,
      "outputs": [
        {
          "output_type": "stream",
          "name": "stdout",
          "text": [
            "--2022-06-06 07:30:34--  https://raw.githubusercontent.com/dhanifudin/pyspark-demo/main/sample_books.json\n",
            "Resolving raw.githubusercontent.com (raw.githubusercontent.com)... 185.199.108.133, 185.199.109.133, 185.199.110.133, ...\n",
            "Connecting to raw.githubusercontent.com (raw.githubusercontent.com)|185.199.108.133|:443... connected.\n",
            "HTTP request sent, awaiting response... 200 OK\n",
            "Length: 1565 (1.5K) [text/plain]\n",
            "Saving to: ‘sample_books.json’\n",
            "\n",
            "\rsample_books.json     0%[                    ]       0  --.-KB/s               \rsample_books.json   100%[===================>]   1.53K  --.-KB/s    in 0s      \n",
            "\n",
            "2022-06-06 07:30:34 (23.2 MB/s) - ‘sample_books.json’ saved [1565/1565]\n",
            "\n"
          ]
        }
      ]
    },
    {
      "cell_type": "code",
      "source": [
        "df = spark.read.json(\"/content/sample_books.json\")"
      ],
      "metadata": {
        "id": "ssiWm0RkmdhV"
      },
      "execution_count": 12,
      "outputs": []
    },
    {
      "cell_type": "code",
      "source": [
        "df.printSchema()"
      ],
      "metadata": {
        "colab": {
          "base_uri": "https://localhost:8080/"
        },
        "id": "lGdDxC2Pm8Gn",
        "outputId": "5eecd060-5e9c-4efe-f4d4-cb36ce3206e9"
      },
      "execution_count": 13,
      "outputs": [
        {
          "output_type": "stream",
          "name": "stdout",
          "text": [
            "root\n",
            " |-- author: string (nullable = true)\n",
            " |-- edition: string (nullable = true)\n",
            " |-- price: double (nullable = true)\n",
            " |-- title: string (nullable = true)\n",
            " |-- year_written: long (nullable = true)\n",
            "\n"
          ]
        }
      ]
    },
    {
      "cell_type": "code",
      "source": [
        "df.show(4,False)"
      ],
      "metadata": {
        "colab": {
          "base_uri": "https://localhost:8080/"
        },
        "id": "Jvyx7l49m-_B",
        "outputId": "69b2f6ad-5ff2-445d-bb0a-2e3b16e2cb26"
      },
      "execution_count": 14,
      "outputs": [
        {
          "output_type": "stream",
          "name": "stdout",
          "text": [
            "+---------------+--------------+-----+----------------+------------+\n",
            "|author         |edition       |price|title           |year_written|\n",
            "+---------------+--------------+-----+----------------+------------+\n",
            "|Austen, Jane   |Penguin       |18.2 |Northanger Abbey|1814        |\n",
            "|Tolstoy, Leo   |Penguin       |12.7 |War and Peace   |1865        |\n",
            "|Tolstoy, Leo   |Penguin       |13.5 |Anna Karenina   |1875        |\n",
            "|Woolf, Virginia|Harcourt Brace|25.0 |Mrs. Dalloway   |1925        |\n",
            "+---------------+--------------+-----+----------------+------------+\n",
            "only showing top 4 rows\n",
            "\n"
          ]
        }
      ]
    },
    {
      "cell_type": "code",
      "source": [
        "df.count()"
      ],
      "metadata": {
        "colab": {
          "base_uri": "https://localhost:8080/"
        },
        "id": "Xntz3oKsnFFT",
        "outputId": "d768bd82-0af5-4e5c-db0b-51ee5d7d1893"
      },
      "execution_count": 15,
      "outputs": [
        {
          "output_type": "execute_result",
          "data": {
            "text/plain": [
              "13"
            ]
          },
          "metadata": {},
          "execution_count": 15
        }
      ]
    },
    {
      "cell_type": "code",
      "source": [
        "df.select(\"title\", \"price\", \"year_written\").show(5)"
      ],
      "metadata": {
        "colab": {
          "base_uri": "https://localhost:8080/"
        },
        "id": "H1KCSEpPnI9F",
        "outputId": "941e1fbb-7f45-4805-c090-6827415271a6"
      },
      "execution_count": 16,
      "outputs": [
        {
          "output_type": "stream",
          "name": "stdout",
          "text": [
            "+----------------+-----+------------+\n",
            "|           title|price|year_written|\n",
            "+----------------+-----+------------+\n",
            "|Northanger Abbey| 18.2|        1814|\n",
            "|   War and Peace| 12.7|        1865|\n",
            "|   Anna Karenina| 13.5|        1875|\n",
            "|   Mrs. Dalloway| 25.0|        1925|\n",
            "|       The Hours|12.35|        1999|\n",
            "+----------------+-----+------------+\n",
            "only showing top 5 rows\n",
            "\n"
          ]
        }
      ]
    },
    {
      "cell_type": "code",
      "source": [
        "df_filtered = df.filter(\"year_written > 1950 AND price > 10 AND title IS NOT NULL\")\n",
        "\n",
        "df_filtered.select(\"title\", \"price\", \"year_written\").show(50, False)"
      ],
      "metadata": {
        "colab": {
          "base_uri": "https://localhost:8080/"
        },
        "id": "5yZ3imZ1nKvO",
        "outputId": "a25b5b11-3372-4e98-aba2-a7d83bd81814"
      },
      "execution_count": 17,
      "outputs": [
        {
          "output_type": "stream",
          "name": "stdout",
          "text": [
            "+-----------------------------+-----+------------+\n",
            "|title                        |price|year_written|\n",
            "+-----------------------------+-----+------------+\n",
            "|The Hours                    |12.35|1999        |\n",
            "|Harry Potter                 |19.95|2000        |\n",
            "|One Hundred Years of Solitude|14.0 |1967        |\n",
            "+-----------------------------+-----+------------+\n",
            "\n"
          ]
        }
      ]
    },
    {
      "cell_type": "markdown",
      "source": [
        "# Tugas"
      ],
      "metadata": {
        "id": "eOvIUfuL5zeP"
      }
    },
    {
      "cell_type": "markdown",
      "source": [
        "1. Tampilkan data buku dengan harga paling murah!"
      ],
      "metadata": {
        "id": "Xc7EVBn354r_"
      }
    },
    {
      "cell_type": "code",
      "source": [
        "df.show()"
      ],
      "metadata": {
        "colab": {
          "base_uri": "https://localhost:8080/"
        },
        "id": "6lsQ_Q_T590Q",
        "outputId": "18ba26f8-c62d-415d-fd1c-a23b3a092345"
      },
      "execution_count": 18,
      "outputs": [
        {
          "output_type": "stream",
          "name": "stdout",
          "text": [
            "+--------------------+-----------------+-----+--------------------+------------+\n",
            "|              author|          edition|price|               title|year_written|\n",
            "+--------------------+-----------------+-----+--------------------+------------+\n",
            "|        Austen, Jane|          Penguin| 18.2|    Northanger Abbey|        1814|\n",
            "|        Tolstoy, Leo|          Penguin| 12.7|       War and Peace|        1865|\n",
            "|        Tolstoy, Leo|          Penguin| 13.5|       Anna Karenina|        1875|\n",
            "|     Woolf, Virginia|   Harcourt Brace| 25.0|       Mrs. Dalloway|        1925|\n",
            "|Cunnningham, Michael|   Harcourt Brace|12.35|           The Hours|        1999|\n",
            "|         Twain, Mark|          Penguin| 5.76|    Huckleberry Finn|        1865|\n",
            "|    Dickens, Charles|     Random House| 5.75|         Bleak House|        1870|\n",
            "|         Twain, Mark|     Random House| 7.75|          Tom Sawyer|        1862|\n",
            "|     Woolf, Virginia|          Penguin| 29.0| A Room of One's Own|        1922|\n",
            "|       Rowling, J.K.|   Harcourt Brace|19.95|        Harry Potter|        2000|\n",
            "|             Marquez|Harper  Perennial| 14.0|One Hundred Years...|        1967|\n",
            "|         Shakespeare| Signet  Classics| 7.95|Hamlet, Prince of...|        1603|\n",
            "|       Tolkien, J.R.|          Penguin|27.45|   Lord of the Rings|        1937|\n",
            "+--------------------+-----------------+-----+--------------------+------------+\n",
            "\n"
          ]
        }
      ]
    },
    {
      "cell_type": "code",
      "source": [
        "df_filtered = df.filter(\"year_written IS NOT NULL AND price < 8 AND title IS NOT NULL\")\n",
        "\n",
        "df_filtered.select(\"title\", \"price\", \"year_written\").show(50, False)"
      ],
      "metadata": {
        "colab": {
          "base_uri": "https://localhost:8080/"
        },
        "id": "gpoEz4qt7eV1",
        "outputId": "48c0de2b-ac3b-4beb-dd11-1e3828b89977"
      },
      "execution_count": 19,
      "outputs": [
        {
          "output_type": "stream",
          "name": "stdout",
          "text": [
            "+-------------------------+-----+------------+\n",
            "|title                    |price|year_written|\n",
            "+-------------------------+-----+------------+\n",
            "|Huckleberry Finn         |5.76 |1865        |\n",
            "|Bleak House              |5.75 |1870        |\n",
            "|Tom Sawyer               |7.75 |1862        |\n",
            "|Hamlet, Prince of Denmark|7.95 |1603        |\n",
            "+-------------------------+-----+------------+\n",
            "\n"
          ]
        }
      ]
    },
    {
      "cell_type": "markdown",
      "source": [
        "2. Tampilkan jumlah terbit buku dikategorikan setiap tahun ditulis!"
      ],
      "metadata": {
        "id": "YptsRi_F7wM5"
      }
    },
    {
      "cell_type": "code",
      "source": [
        "df_filtered = df.filter(\"year_written < 1900 AND price IS NOT NULL AND title IS NOT NULL\")\n",
        "\n",
        "df_filtered.select(\"title\", \"price\", \"year_written\").count()\n"
      ],
      "metadata": {
        "colab": {
          "base_uri": "https://localhost:8080/"
        },
        "id": "giAE14Qx7ytF",
        "outputId": "54014457-0cb5-4e71-9ffb-2baad4a1bbf2"
      },
      "execution_count": 30,
      "outputs": [
        {
          "output_type": "execute_result",
          "data": {
            "text/plain": [
              "7"
            ]
          },
          "metadata": {},
          "execution_count": 30
        }
      ]
    },
    {
      "cell_type": "markdown",
      "source": [
        "3. Tampilkan data buku termahal tiap tahun penulisannya!"
      ],
      "metadata": {
        "id": "1RbkjIhC98jc"
      }
    },
    {
      "cell_type": "code",
      "source": [
        "df_filtered = df.filter(\"year_written IS NOT NULL AND price > 20 AND title IS NOT NULL\")\n",
        "\n",
        "df_filtered.select(\"title\", \"price\", \"year_written\").show(50, False)"
      ],
      "metadata": {
        "colab": {
          "base_uri": "https://localhost:8080/"
        },
        "id": "mdf0Awel-A6g",
        "outputId": "59f06646-e4f5-4fb7-b4cb-42fc17bcab42"
      },
      "execution_count": 31,
      "outputs": [
        {
          "output_type": "stream",
          "name": "stdout",
          "text": [
            "+-------------------+-----+------------+\n",
            "|title              |price|year_written|\n",
            "+-------------------+-----+------------+\n",
            "|Mrs. Dalloway      |25.0 |1925        |\n",
            "|A Room of One's Own|29.0 |1922        |\n",
            "|Lord of the Rings  |27.45|1937        |\n",
            "+-------------------+-----+------------+\n",
            "\n"
          ]
        }
      ]
    },
    {
      "cell_type": "markdown",
      "source": [
        "4. Tampilkan data buku termurah tiap tahun penulisannya!"
      ],
      "metadata": {
        "id": "m3Jo7YMX-cXv"
      }
    },
    {
      "cell_type": "code",
      "source": [
        "df_filtered = df.filter(\"year_written IS NOT NULL AND price < 7 AND title IS NOT NULL\")\n",
        "\n",
        "df_filtered.select(\"title\", \"price\", \"year_written\").show(50, False)"
      ],
      "metadata": {
        "colab": {
          "base_uri": "https://localhost:8080/"
        },
        "id": "GssZLOh4-gY_",
        "outputId": "84e45dc3-202f-4355-856f-532cd89b58e5"
      },
      "execution_count": 33,
      "outputs": [
        {
          "output_type": "stream",
          "name": "stdout",
          "text": [
            "+----------------+-----+------------+\n",
            "|title           |price|year_written|\n",
            "+----------------+-----+------------+\n",
            "|Huckleberry Finn|5.76 |1865        |\n",
            "|Bleak House     |5.75 |1870        |\n",
            "+----------------+-----+------------+\n",
            "\n"
          ]
        }
      ]
    }
  ]
}